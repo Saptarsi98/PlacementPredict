{
 "cells": [
  {
   "cell_type": "markdown",
   "metadata": {
    "id": "Um5YIparBPsc"
   },
   "source": [
    "# The libraries are imported first"
   ]
  },
  {
   "cell_type": "code",
   "execution_count": 1,
   "metadata": {
    "id": "2-b3PBmy2g0T"
   },
   "outputs": [],
   "source": [
    "import pandas as pd\n",
    "import numpy as np\n",
    "import matplotlib.pyplot as plt\n",
    "import seaborn as sns\n",
    "import math\n",
    "from sklearn.metrics import accuracy_score\n",
    "from sklearn import metrics\n",
    "import warnings\n",
    "warnings.filterwarnings('ignore')"
   ]
  },
  {
   "cell_type": "markdown",
   "metadata": {
    "id": "CvVDKvXBBW6E"
   },
   "source": [
    "# The excel file 'DataPlacement.xlsx' is imported"
   ]
  },
  {
   "cell_type": "code",
   "execution_count": 2,
   "metadata": {
    "colab": {
     "base_uri": "https://localhost:8080/",
     "height": 287
    },
    "id": "5cZp-C762yNw",
    "outputId": "24ba3510-675b-4124-97d2-5716dfe328d4"
   },
   "outputs": [
    {
     "data": {
      "text/html": [
       "<div>\n",
       "<style scoped>\n",
       "    .dataframe tbody tr th:only-of-type {\n",
       "        vertical-align: middle;\n",
       "    }\n",
       "\n",
       "    .dataframe tbody tr th {\n",
       "        vertical-align: top;\n",
       "    }\n",
       "\n",
       "    .dataframe thead th {\n",
       "        text-align: right;\n",
       "    }\n",
       "</style>\n",
       "<table border=\"1\" class=\"dataframe\">\n",
       "  <thead>\n",
       "    <tr style=\"text-align: right;\">\n",
       "      <th></th>\n",
       "      <th>Unnamed: 0</th>\n",
       "      <th>Unnamed: 1</th>\n",
       "      <th>Unnamed: 2</th>\n",
       "      <th>Unnamed: 3</th>\n",
       "      <th>Unnamed: 4</th>\n",
       "      <th>Unnamed: 5</th>\n",
       "      <th>Unnamed: 6</th>\n",
       "      <th>Unnamed: 7</th>\n",
       "      <th>Unnamed: 8</th>\n",
       "      <th>Unnamed: 9</th>\n",
       "      <th>Unnamed: 10</th>\n",
       "    </tr>\n",
       "  </thead>\n",
       "  <tbody>\n",
       "    <tr>\n",
       "      <th>0</th>\n",
       "      <td>Branch</td>\n",
       "      <td>Degree</td>\n",
       "      <td>Score/800</td>\n",
       "      <td>Aptitude</td>\n",
       "      <td>English</td>\n",
       "      <td>Quantitative</td>\n",
       "      <td>Analytical</td>\n",
       "      <td>Domain</td>\n",
       "      <td>Computer Fundamental</td>\n",
       "      <td>Coding</td>\n",
       "      <td>Placement Status</td>\n",
       "    </tr>\n",
       "    <tr>\n",
       "      <th>1</th>\n",
       "      <td>Applied Electronics and Instrumentation</td>\n",
       "      <td>B. Tech.</td>\n",
       "      <td>584</td>\n",
       "      <td>69</td>\n",
       "      <td>87</td>\n",
       "      <td>53</td>\n",
       "      <td>67</td>\n",
       "      <td>30</td>\n",
       "      <td>20</td>\n",
       "      <td>60</td>\n",
       "      <td>Placed</td>\n",
       "    </tr>\n",
       "    <tr>\n",
       "      <th>2</th>\n",
       "      <td>Mechanical Engineering</td>\n",
       "      <td>B. Tech.</td>\n",
       "      <td>584</td>\n",
       "      <td>76</td>\n",
       "      <td>80</td>\n",
       "      <td>73</td>\n",
       "      <td>73</td>\n",
       "      <td>55</td>\n",
       "      <td>40</td>\n",
       "      <td>0</td>\n",
       "      <td>NaN</td>\n",
       "    </tr>\n",
       "    <tr>\n",
       "      <th>3</th>\n",
       "      <td>Electronics and Communications Engineering</td>\n",
       "      <td>B. Tech.</td>\n",
       "      <td>578</td>\n",
       "      <td>71</td>\n",
       "      <td>73</td>\n",
       "      <td>73</td>\n",
       "      <td>67</td>\n",
       "      <td>55</td>\n",
       "      <td>47</td>\n",
       "      <td>20</td>\n",
       "      <td>NaN</td>\n",
       "    </tr>\n",
       "    <tr>\n",
       "      <th>4</th>\n",
       "      <td>Applied Electronics and Instrumentation</td>\n",
       "      <td>B. Tech.</td>\n",
       "      <td>578</td>\n",
       "      <td>71</td>\n",
       "      <td>93</td>\n",
       "      <td>40</td>\n",
       "      <td>80</td>\n",
       "      <td>50</td>\n",
       "      <td>33</td>\n",
       "      <td>20</td>\n",
       "      <td>NaN</td>\n",
       "    </tr>\n",
       "  </tbody>\n",
       "</table>\n",
       "</div>"
      ],
      "text/plain": [
       "                                   Unnamed: 0 Unnamed: 1 Unnamed: 2  \\\n",
       "0                                      Branch     Degree  Score/800   \n",
       "1     Applied Electronics and Instrumentation   B. Tech.        584   \n",
       "2                      Mechanical Engineering   B. Tech.        584   \n",
       "3  Electronics and Communications Engineering   B. Tech.        578   \n",
       "4     Applied Electronics and Instrumentation   B. Tech.        578   \n",
       "\n",
       "  Unnamed: 3 Unnamed: 4    Unnamed: 5  Unnamed: 6 Unnamed: 7  \\\n",
       "0   Aptitude    English  Quantitative  Analytical     Domain   \n",
       "1         69         87            53          67         30   \n",
       "2         76         80            73          73         55   \n",
       "3         71         73            73          67         55   \n",
       "4         71         93            40          80         50   \n",
       "\n",
       "             Unnamed: 8 Unnamed: 9       Unnamed: 10  \n",
       "0  Computer Fundamental     Coding  Placement Status  \n",
       "1                    20         60            Placed  \n",
       "2                    40          0               NaN  \n",
       "3                    47         20               NaN  \n",
       "4                    33         20               NaN  "
      ]
     },
     "execution_count": 2,
     "metadata": {},
     "output_type": "execute_result"
    }
   ],
   "source": [
    "df = pd.read_excel(r\"C:\\Users\\user\\Ardent Assignments\\DataPlacement.xlsx\")\n",
    "df.head()"
   ]
  },
  {
   "cell_type": "markdown",
   "metadata": {
    "id": "FPDTyWKEBOis"
   },
   "source": [
    "# Suitable column headings are given"
   ]
  },
  {
   "cell_type": "code",
   "execution_count": 3,
   "metadata": {
    "colab": {
     "base_uri": "https://localhost:8080/",
     "height": 304
    },
    "id": "iThhcI0O9plA",
    "outputId": "9996a772-ad4c-489b-ef9b-00d7a5ee9d9d"
   },
   "outputs": [
    {
     "data": {
      "text/html": [
       "<div>\n",
       "<style scoped>\n",
       "    .dataframe tbody tr th:only-of-type {\n",
       "        vertical-align: middle;\n",
       "    }\n",
       "\n",
       "    .dataframe tbody tr th {\n",
       "        vertical-align: top;\n",
       "    }\n",
       "\n",
       "    .dataframe thead th {\n",
       "        text-align: right;\n",
       "    }\n",
       "</style>\n",
       "<table border=\"1\" class=\"dataframe\">\n",
       "  <thead>\n",
       "    <tr style=\"text-align: right;\">\n",
       "      <th></th>\n",
       "      <th>Branch</th>\n",
       "      <th>Degree</th>\n",
       "      <th>Score/800</th>\n",
       "      <th>Aptitude</th>\n",
       "      <th>English</th>\n",
       "      <th>Quantitative</th>\n",
       "      <th>Analytical</th>\n",
       "      <th>Domain</th>\n",
       "      <th>Computer Fundamental</th>\n",
       "      <th>Coding</th>\n",
       "      <th>Placement Status</th>\n",
       "    </tr>\n",
       "  </thead>\n",
       "  <tbody>\n",
       "    <tr>\n",
       "      <th>1</th>\n",
       "      <td>Applied Electronics and Instrumentation</td>\n",
       "      <td>B. Tech.</td>\n",
       "      <td>584</td>\n",
       "      <td>69</td>\n",
       "      <td>87</td>\n",
       "      <td>53</td>\n",
       "      <td>67</td>\n",
       "      <td>30</td>\n",
       "      <td>20</td>\n",
       "      <td>60</td>\n",
       "      <td>Placed</td>\n",
       "    </tr>\n",
       "    <tr>\n",
       "      <th>2</th>\n",
       "      <td>Mechanical Engineering</td>\n",
       "      <td>B. Tech.</td>\n",
       "      <td>584</td>\n",
       "      <td>76</td>\n",
       "      <td>80</td>\n",
       "      <td>73</td>\n",
       "      <td>73</td>\n",
       "      <td>55</td>\n",
       "      <td>40</td>\n",
       "      <td>0</td>\n",
       "      <td>NaN</td>\n",
       "    </tr>\n",
       "    <tr>\n",
       "      <th>3</th>\n",
       "      <td>Electronics and Communications Engineering</td>\n",
       "      <td>B. Tech.</td>\n",
       "      <td>578</td>\n",
       "      <td>71</td>\n",
       "      <td>73</td>\n",
       "      <td>73</td>\n",
       "      <td>67</td>\n",
       "      <td>55</td>\n",
       "      <td>47</td>\n",
       "      <td>20</td>\n",
       "      <td>NaN</td>\n",
       "    </tr>\n",
       "    <tr>\n",
       "      <th>4</th>\n",
       "      <td>Applied Electronics and Instrumentation</td>\n",
       "      <td>B. Tech.</td>\n",
       "      <td>578</td>\n",
       "      <td>71</td>\n",
       "      <td>93</td>\n",
       "      <td>40</td>\n",
       "      <td>80</td>\n",
       "      <td>50</td>\n",
       "      <td>33</td>\n",
       "      <td>20</td>\n",
       "      <td>NaN</td>\n",
       "    </tr>\n",
       "    <tr>\n",
       "      <th>5</th>\n",
       "      <td>Electronics and Communications Engineering</td>\n",
       "      <td>B. Tech.</td>\n",
       "      <td>575</td>\n",
       "      <td>64</td>\n",
       "      <td>73</td>\n",
       "      <td>47</td>\n",
       "      <td>73</td>\n",
       "      <td>55</td>\n",
       "      <td>53</td>\n",
       "      <td>20</td>\n",
       "      <td>NaN</td>\n",
       "    </tr>\n",
       "  </tbody>\n",
       "</table>\n",
       "</div>"
      ],
      "text/plain": [
       "0                                      Branch    Degree Score/800 Aptitude  \\\n",
       "1     Applied Electronics and Instrumentation  B. Tech.       584       69   \n",
       "2                      Mechanical Engineering  B. Tech.       584       76   \n",
       "3  Electronics and Communications Engineering  B. Tech.       578       71   \n",
       "4     Applied Electronics and Instrumentation  B. Tech.       578       71   \n",
       "5  Electronics and Communications Engineering  B. Tech.       575       64   \n",
       "\n",
       "0 English Quantitative Analytical Domain Computer Fundamental Coding  \\\n",
       "1      87           53         67     30                   20     60   \n",
       "2      80           73         73     55                   40      0   \n",
       "3      73           73         67     55                   47     20   \n",
       "4      93           40         80     50                   33     20   \n",
       "5      73           47         73     55                   53     20   \n",
       "\n",
       "0 Placement Status  \n",
       "1           Placed  \n",
       "2              NaN  \n",
       "3              NaN  \n",
       "4              NaN  \n",
       "5              NaN  "
      ]
     },
     "execution_count": 3,
     "metadata": {},
     "output_type": "execute_result"
    }
   ],
   "source": [
    "df.columns = df.iloc[0]\n",
    "df = df.iloc[1:]\n",
    "df.head()"
   ]
  },
  {
   "cell_type": "markdown",
   "metadata": {
    "id": "wzLC4gzxCtwq"
   },
   "source": [
    "# i) Setting Placed: 1 and  NaN: 0\n",
    "# ii) Dropping the Branch and Degree columns"
   ]
  },
  {
   "cell_type": "code",
   "execution_count": 4,
   "metadata": {
    "colab": {
     "base_uri": "https://localhost:8080/",
     "height": 203
    },
    "id": "VvAV71DS_E7v",
    "outputId": "3d4b915e-709f-46c1-bf84-f596a939c193"
   },
   "outputs": [
    {
     "data": {
      "text/html": [
       "<div>\n",
       "<style scoped>\n",
       "    .dataframe tbody tr th:only-of-type {\n",
       "        vertical-align: middle;\n",
       "    }\n",
       "\n",
       "    .dataframe tbody tr th {\n",
       "        vertical-align: top;\n",
       "    }\n",
       "\n",
       "    .dataframe thead th {\n",
       "        text-align: right;\n",
       "    }\n",
       "</style>\n",
       "<table border=\"1\" class=\"dataframe\">\n",
       "  <thead>\n",
       "    <tr style=\"text-align: right;\">\n",
       "      <th></th>\n",
       "      <th>Score/800</th>\n",
       "      <th>Aptitude</th>\n",
       "      <th>English</th>\n",
       "      <th>Quantitative</th>\n",
       "      <th>Analytical</th>\n",
       "      <th>Domain</th>\n",
       "      <th>Computer Fundamental</th>\n",
       "      <th>Coding</th>\n",
       "      <th>Placement Status</th>\n",
       "    </tr>\n",
       "  </thead>\n",
       "  <tbody>\n",
       "    <tr>\n",
       "      <th>1</th>\n",
       "      <td>584</td>\n",
       "      <td>69</td>\n",
       "      <td>87</td>\n",
       "      <td>53</td>\n",
       "      <td>67</td>\n",
       "      <td>30</td>\n",
       "      <td>20</td>\n",
       "      <td>60</td>\n",
       "      <td>1</td>\n",
       "    </tr>\n",
       "    <tr>\n",
       "      <th>2</th>\n",
       "      <td>584</td>\n",
       "      <td>76</td>\n",
       "      <td>80</td>\n",
       "      <td>73</td>\n",
       "      <td>73</td>\n",
       "      <td>55</td>\n",
       "      <td>40</td>\n",
       "      <td>0</td>\n",
       "      <td>0</td>\n",
       "    </tr>\n",
       "    <tr>\n",
       "      <th>3</th>\n",
       "      <td>578</td>\n",
       "      <td>71</td>\n",
       "      <td>73</td>\n",
       "      <td>73</td>\n",
       "      <td>67</td>\n",
       "      <td>55</td>\n",
       "      <td>47</td>\n",
       "      <td>20</td>\n",
       "      <td>0</td>\n",
       "    </tr>\n",
       "    <tr>\n",
       "      <th>4</th>\n",
       "      <td>578</td>\n",
       "      <td>71</td>\n",
       "      <td>93</td>\n",
       "      <td>40</td>\n",
       "      <td>80</td>\n",
       "      <td>50</td>\n",
       "      <td>33</td>\n",
       "      <td>20</td>\n",
       "      <td>0</td>\n",
       "    </tr>\n",
       "    <tr>\n",
       "      <th>5</th>\n",
       "      <td>575</td>\n",
       "      <td>64</td>\n",
       "      <td>73</td>\n",
       "      <td>47</td>\n",
       "      <td>73</td>\n",
       "      <td>55</td>\n",
       "      <td>53</td>\n",
       "      <td>20</td>\n",
       "      <td>0</td>\n",
       "    </tr>\n",
       "  </tbody>\n",
       "</table>\n",
       "</div>"
      ],
      "text/plain": [
       "0  Score/800  Aptitude  English  Quantitative  Analytical  Domain  \\\n",
       "1        584        69       87            53          67      30   \n",
       "2        584        76       80            73          73      55   \n",
       "3        578        71       73            73          67      55   \n",
       "4        578        71       93            40          80      50   \n",
       "5        575        64       73            47          73      55   \n",
       "\n",
       "0  Computer Fundamental  Coding  Placement Status  \n",
       "1                    20      60                 1  \n",
       "2                    40       0                 0  \n",
       "3                    47      20                 0  \n",
       "4                    33      20                 0  \n",
       "5                    53      20                 0  "
      ]
     },
     "execution_count": 4,
     "metadata": {},
     "output_type": "execute_result"
    }
   ],
   "source": [
    "df.fillna(0,inplace=True)\n",
    "df.replace('Placed',1,inplace=True)\n",
    "df.drop(columns=['Branch','Degree'],inplace=True)\n",
    "df.head()"
   ]
  },
  {
   "cell_type": "markdown",
   "metadata": {
    "id": "I6QAHzjwDSgS"
   },
   "source": [
    "## Checking the info of the Dataframe "
   ]
  },
  {
   "cell_type": "code",
   "execution_count": 5,
   "metadata": {
    "colab": {
     "base_uri": "https://localhost:8080/"
    },
    "id": "XChiiokBCGQR",
    "outputId": "33280e6d-1277-453e-f5a2-6a732a5968c3"
   },
   "outputs": [
    {
     "name": "stdout",
     "output_type": "stream",
     "text": [
      "<class 'pandas.core.frame.DataFrame'>\n",
      "RangeIndex: 12864 entries, 1 to 12864\n",
      "Data columns (total 9 columns):\n",
      " #   Column                Non-Null Count  Dtype\n",
      "---  ------                --------------  -----\n",
      " 0   Score/800             12864 non-null  int64\n",
      " 1   Aptitude              12864 non-null  int64\n",
      " 2   English               12864 non-null  int64\n",
      " 3   Quantitative          12864 non-null  int64\n",
      " 4   Analytical            12864 non-null  int64\n",
      " 5   Domain                12864 non-null  int64\n",
      " 6   Computer Fundamental  12864 non-null  int64\n",
      " 7   Coding                12864 non-null  int64\n",
      " 8   Placement Status      12864 non-null  int64\n",
      "dtypes: int64(9)\n",
      "memory usage: 904.6 KB\n"
     ]
    }
   ],
   "source": [
    "df.info()"
   ]
  },
  {
   "cell_type": "markdown",
   "metadata": {
    "id": "p_T1naCUDmQr"
   },
   "source": [
    "# Generating the heatmap to show the correlation among columns"
   ]
  },
  {
   "cell_type": "code",
   "execution_count": 6,
   "metadata": {
    "colab": {
     "base_uri": "https://localhost:8080/",
     "height": 554
    },
    "id": "gBCiuJFr_5VG",
    "outputId": "a33b262c-b024-44c0-c394-2ff55a562a1e"
   },
   "outputs": [
    {
     "data": {
      "image/png": "[encoded data removed]",
      "text/plain": [
       "<Figure size 720x504 with 2 Axes>"
      ]
     },
     "metadata": {
      "needs_background": "light"
     },
     "output_type": "display_data"
    }
   ],
   "source": [
    "plt.figure(figsize=(10,7))\n",
    "sns.heatmap(df.corr(),annot=True)\n",
    "plt.show()"
   ]
  },
  {
   "cell_type": "markdown",
   "metadata": {
    "id": "PCJyRIelE0NY"
   },
   "source": [
    "### The last row of the heatmap shows that Placement doesn't have good correlation (>=0.5) with any of the columns, so we will consider all the columns for making the predictions better\n",
    "# ------------------------------------------------------------------------------\n",
    "### X -> All columns are included except Placement Status\n",
    "### Y -> Placement Status\n",
    "### Splitting X, Y into training and testing sets using train_test_split\n",
    "\n"
   ]
  },
  {
   "cell_type": "code",
   "execution_count": 7,
   "metadata": {
    "id": "9X6LW55Af3_m"
   },
   "outputs": [],
   "source": [
    "x=df.iloc[:,:-1]\n",
    "y=df.iloc[:,-1]\n",
    "from sklearn.model_selection import train_test_split\n",
    "x_train,x_test,y_train,y_test=train_test_split(x,y,test_size=0.2)"
   ]
  },
  {
   "cell_type": "markdown",
   "metadata": {
    "id": "oDyxXkHPGfi0"
   },
   "source": [
    "## Fitting into a Logistic Regression model and getting predictions"
   ]
  },
  {
   "cell_type": "code",
   "execution_count": 8,
   "metadata": {
    "id": "zoM6PSkcnvYF"
   },
   "outputs": [],
   "source": [
    "from sklearn.linear_model import LogisticRegression\n",
    "logreg=LogisticRegression()\n",
    "logreg.fit(x_train,y_train)\n",
    "y_pred=logreg.predict(x_test)"
   ]
  },
  {
   "cell_type": "markdown",
   "metadata": {
    "id": "9eLcsePiHJ9_"
   },
   "source": [
    "## Using confusion matrix to compare actual and predicted values"
   ]
  },
  {
   "cell_type": "code",
   "execution_count": 9,
   "metadata": {
    "colab": {
     "base_uri": "https://localhost:8080/"
    },
    "id": "wOuojd210qCB",
    "outputId": "dd25c8f4-3348-4921-e9af-0e0b55128996"
   },
   "outputs": [
    {
     "name": "stdout",
     "output_type": "stream",
     "text": [
      "[[2407   13]\n",
      " [ 131   22]]\n"
     ]
    }
   ],
   "source": [
    "cm = metrics.confusion_matrix(y_test, y_pred)\n",
    "print(cm)"
   ]
  },
  {
   "cell_type": "code",
   "execution_count": 10,
   "metadata": {
    "id": "DKZjvsTP-lYb"
   },
   "outputs": [],
   "source": [
    "cm_df = pd.DataFrame(cm)\n",
    "cm_df.columns = ['Predicted_Pl_status:0','Predicted_Pl_status:1']\n",
    "cm_df = cm_df.rename(index={0:'Actual_Pl_status:0',1:'Actual_Pl_status:1'})"
   ]
  },
  {
   "cell_type": "code",
   "execution_count": 11,
   "metadata": {
    "colab": {
     "base_uri": "https://localhost:8080/",
     "height": 110
    },
    "id": "yN7LC2pcAtb3",
    "outputId": "4d335373-850a-427e-e5aa-032f9435a984"
   },
   "outputs": [
    {
     "data": {
      "text/html": [
       "<div>\n",
       "<style scoped>\n",
       "    .dataframe tbody tr th:only-of-type {\n",
       "        vertical-align: middle;\n",
       "    }\n",
       "\n",
       "    .dataframe tbody tr th {\n",
       "        vertical-align: top;\n",
       "    }\n",
       "\n",
       "    .dataframe thead th {\n",
       "        text-align: right;\n",
       "    }\n",
       "</style>\n",
       "<table border=\"1\" class=\"dataframe\">\n",
       "  <thead>\n",
       "    <tr style=\"text-align: right;\">\n",
       "      <th></th>\n",
       "      <th>Predicted_Pl_status:0</th>\n",
       "      <th>Predicted_Pl_status:1</th>\n",
       "    </tr>\n",
       "  </thead>\n",
       "  <tbody>\n",
       "    <tr>\n",
       "      <th>Actual_Pl_status:0</th>\n",
       "      <td>2407</td>\n",
       "      <td>13</td>\n",
       "    </tr>\n",
       "    <tr>\n",
       "      <th>Actual_Pl_status:1</th>\n",
       "      <td>131</td>\n",
       "      <td>22</td>\n",
       "    </tr>\n",
       "  </tbody>\n",
       "</table>\n",
       "</div>"
      ],
      "text/plain": [
       "                    Predicted_Pl_status:0  Predicted_Pl_status:1\n",
       "Actual_Pl_status:0                   2407                     13\n",
       "Actual_Pl_status:1                    131                     22"
      ]
     },
     "execution_count": 11,
     "metadata": {},
     "output_type": "execute_result"
    }
   ],
   "source": [
    "cm_df"
   ]
  },
  {
   "cell_type": "markdown",
   "metadata": {
    "id": "cCHS22W_HFKV"
   },
   "source": [
    "## Accuracy score of the model"
   ]
  },
  {
   "cell_type": "code",
   "execution_count": 12,
   "metadata": {
    "colab": {
     "base_uri": "https://localhost:8080/"
    },
    "id": "D72-LKn80KZL",
    "outputId": "4b49f90f-4d42-4c3a-d92e-745f622bacba"
   },
   "outputs": [
    {
     "name": "stdout",
     "output_type": "stream",
     "text": [
      "Accuracy score:  0.9440342013214147\n",
      "Hence the model is accurate 94 times out of every 100 predictions\n"
     ]
    }
   ],
   "source": [
    "score =accuracy_score(y_test,y_pred)\n",
    "print('Accuracy score: ',score)\n",
    "print('Hence the model is accurate {} times out of every 100 predictions'.format(int(100*score)))"
   ]
  },
  {
   "cell_type": "markdown",
   "metadata": {
    "id": "reSSS10ILwT5"
   },
   "source": [
    "## Prediction function"
   ]
  },
  {
   "cell_type": "code",
   "execution_count": 13,
   "metadata": {
    "id": "6akV4l4_Lvel"
   },
   "outputs": [],
   "source": [
    "def predict_function():\n",
    "  print('Enter student Details(Branch,Degree not required): ')\n",
    "  dict1 = {}\n",
    "  for i in df.columns:\n",
    "    if i!='Placement Status':\n",
    "      value = float(input('Enter the test value for column {}:   '.format(i)))\n",
    "      dict1[i]=value\n",
    "  test_values = pd.DataFrame(dict1,index=[0])\n",
    "  pred_test_values = logreg.predict(test_values)\n",
    "  print('----------------------------------------------------------------------')\n",
    "  if pred_test_values == [1]:\n",
    "    print('The student will be placed')\n",
    "  else:\n",
    "    print('The student will not be placed')\n"
   ]
  },
  {
   "cell_type": "code",
   "execution_count": 14,
   "metadata": {
    "colab": {
     "base_uri": "https://localhost:8080/"
    },
    "id": "zdajF-T8NCge",
    "outputId": "0b0a7bea-cd6d-40ca-d798-a2adcff999da",
    "scrolled": true
   },
   "outputs": [
    {
     "name": "stdout",
     "output_type": "stream",
     "text": [
      "Enter student Details(Branch,Degree not required): \n",
      "Enter the test value for column Score/800:   122\n",
      "Enter the test value for column Aptitude:   12\n",
      "Enter the test value for column English:   21\n",
      "Enter the test value for column Quantitative:   45\n",
      "Enter the test value for column Analytical:   22\n",
      "Enter the test value for column Domain:   34\n",
      "Enter the test value for column Computer Fundamental:   23\n",
      "Enter the test value for column Coding:   67\n",
      "----------------------------------------------------------------------\n",
      "The student will not be placed\n"
     ]
    }
   ],
   "source": [
    "predict_function()"
   ]
  },
  {
   "cell_type": "code",
   "execution_count": null,
   "metadata": {},
   "outputs": [],
   "source": []
  },
  {
   "cell_type": "code",
   "execution_count": null,
   "metadata": {},
   "outputs": [],
   "source": []
  }
 ],
 "metadata": {
  "colab": {
   "collapsed_sections": [],
   "name": "Placement.ipynb",
   "provenance": []
  },
  "kernelspec": {
   "display_name": "Python 3",
   "language": "python",
   "name": "python3"
  },
  "language_info": {
   "codemirror_mode": {
    "name": "ipython",
    "version": 3
   },
   "file_extension": ".py",
   "mimetype": "text/x-python",
   "name": "python",
   "nbconvert_exporter": "python",
   "pygments_lexer": "ipython3",
   "version": "3.8.8"
  }
 },
 "nbformat": 4,
 "nbformat_minor": 1
}
